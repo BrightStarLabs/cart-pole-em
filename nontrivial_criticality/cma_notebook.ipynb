{
 "cells": [
  {
   "cell_type": "code",
   "execution_count": null,
   "id": "691d7c04",
   "metadata": {},
   "outputs": [],
   "source": [
    "import numpy as np\n",
    "from em_cma_es import run_cma\n",
    "\n",
    "sim_kwargs = dict(N=32, dt=0.1, T=1000, K_snap=5, max_abs=3.0, alpha=0.5)\n",
    "best_K, best_score = run_cma(\n",
    "    x0=np.zeros(3, dtype=np.float32), sigma0=0.3,\n",
    "    popsize=128, bounds=(-1.0, 1.0), maxiter=100,\n",
    "    sim_kwargs=sim_kwargs, verbose=True\n",
    ")\n",
    "print(best_K, best_score)"
   ]
  },
  {
   "cell_type": "code",
   "execution_count": null,
   "id": "3d645d8e",
   "metadata": {},
   "outputs": [],
   "source": [
    "from em_numpy_single import simulate_single_em\n",
    "import matplotlib.pyplot as plt\n",
    "import numpy as np\n",
    "\n",
    "#K_test=theta_top[0]\n",
    "K_test= np.array([0.99997044,  0.00798002, -0.99658215,0,0 ]) #add here first 3 params of your model\n",
    "print(\"k_test\",K_test)\n",
    "\n",
    "# Pick one of the top-K params from the Taichi discovery pass\n",
    "K_star = K_test.astype(np.float32)  # example\n",
    "\n",
    "a_final, overflow, traj = simulate_single_em(\n",
    "    K_star,\n",
    "    N=64,\n",
    "    dt=0.1,\n",
    "    T=500,\n",
    "    max_abs_a=5.0,\n",
    "    seed=1,\n",
    "    A0=None,           # or pass a custom initial state (N,)\n",
    "    return_traj=True,  # set False if you only need the last state\n",
    ")\n",
    "\n",
    "print(\"overflow:\", overflow, \"final shape:\", a_final.shape)\n",
    "\n",
    "#init\n",
    "plt.figure(figsize=(20, 20))\n",
    "plt.imshow(traj)\n",
    "plt.colorbar()\n",
    "plt.show()"
   ]
  }
 ],
 "metadata": {
  "kernelspec": {
   "display_name": "slackenv",
   "language": "python",
   "name": "python3"
  },
  "language_info": {
   "codemirror_mode": {
    "name": "ipython",
    "version": 3
   },
   "file_extension": ".py",
   "mimetype": "text/x-python",
   "name": "python",
   "nbconvert_exporter": "python",
   "pygments_lexer": "ipython3",
   "version": "3.10.13"
  }
 },
 "nbformat": 4,
 "nbformat_minor": 5
}
