{
 "cells": [
  {
   "cell_type": "code",
   "execution_count": null,
   "id": "09b38676",
   "metadata": {},
   "outputs": [],
   "source": [
    "from taichi_em_discovery import EMDiscovery\n",
    "import numpy as np\n",
    "\n",
    "B, N = 100_000, 64\n",
    "dt, T = 0.1, 1000\n",
    "\n",
    "sim = EMDiscovery(B=B, N=N, dt=dt, T=T, max_abs_a=8.0, beta_ema=0.1, seed=1)\n",
    "sim.run()\n",
    "\n",
    "K = sim.K_numpy()\n",
    "activity, ema, flips, overflow, steps = sim.metrics_numpy()\n",
    "idx, score = EMDiscovery.select_interesting(\n",
    "    K, activity, ema, flips, overflow,\n",
    "    eps_converge=2e-4, lambda_flip=0.05, top_k=1000\n",
    ")\n",
    "\n",
    "A = sim.state_numpy()  # optional\n",
    "K_sel = K[idx]\n",
    "A_sel = A[idx]\n",
    "print(\"Selected:\", len(idx), \"Top score:\", score[idx[0]])\n",
    "print(\"n_overflow:\", overflow.sum(), \"/\", B)\n"
   ]
  },
  {
   "cell_type": "code",
   "execution_count": null,
   "id": "8f73d7f5",
   "metadata": {},
   "outputs": [],
   "source": [
    "K_sel[0:10,:]"
   ]
  },
  {
   "cell_type": "code",
   "execution_count": null,
   "id": "82044ef1",
   "metadata": {},
   "outputs": [],
   "source": [
    "from em_numpy_single import simulate_single_em\n",
    "import matplotlib.pyplot as plt\n",
    "\n",
    "K_test=K_sel[3,:] #change the index to run different theta \n",
    "print(\"k_test\",K_test)\n",
    "\n",
    "# Pick one of the top-K params from the Taichi discovery pass\n",
    "K_star = K_test.astype(np.float32)  # example\n",
    "\n",
    "a_final, overflow, traj = simulate_single_em(\n",
    "    K_star,\n",
    "    N=64,\n",
    "    dt=0.1,\n",
    "    T=200,\n",
    "    max_abs_a=5.0,\n",
    "    seed=0,\n",
    "    A0=None,           # or pass a custom initial state (N,)\n",
    "    return_traj=True,  # set False if you only need the last state\n",
    ")\n",
    "\n",
    "print(\"overflow:\", overflow, \"final shape:\", a_final.shape)\n",
    "\n",
    "# if traj is not None: plot or inspect it: shape (T+1, N)\n",
    "plt.figure(figsize=(15, 15))\n",
    "plt.imshow(traj)\n",
    "plt.colorbar()\n",
    "plt.show()"
   ]
  }
 ],
 "metadata": {
  "kernelspec": {
   "display_name": "slackenv",
   "language": "python",
   "name": "python3"
  },
  "language_info": {
   "codemirror_mode": {
    "name": "ipython",
    "version": 3
   },
   "file_extension": ".py",
   "mimetype": "text/x-python",
   "name": "python",
   "nbconvert_exporter": "python",
   "pygments_lexer": "ipython3",
   "version": "3.10.13"
  }
 },
 "nbformat": 4,
 "nbformat_minor": 5
}
